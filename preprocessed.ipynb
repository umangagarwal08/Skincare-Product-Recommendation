{
 "cells": [
  {
   "cell_type": "code",
   "execution_count": 25,
   "metadata": {},
   "outputs": [],
   "source": [
    "import numpy as np\n",
    "import pandas as pd \n",
    "\n",
    "\n",
    "import seaborn as sns\n",
    "import matplotlib.pyplot as plt\n"
   ]
  },
  {
   "cell_type": "code",
   "execution_count": 26,
   "metadata": {},
   "outputs": [],
   "source": [
    "df=pd.read_csv(r\"C:\\Users\\MY\\Desktop\\Capstone\\skincare_products.csv\")\n",
    "df.drop(columns='Platform',inplace=True)"
   ]
  },
  {
   "cell_type": "code",
   "execution_count": 27,
   "metadata": {},
   "outputs": [
    {
     "data": {
      "text/plain": [
       "(16901, 6)"
      ]
     },
     "execution_count": 27,
     "metadata": {},
     "output_type": "execute_result"
    }
   ],
   "source": [
    "# Check the shape of the dataset \n",
    "df.shape"
   ]
  },
  {
   "cell_type": "code",
   "execution_count": 28,
   "metadata": {},
   "outputs": [],
   "source": [
    "df['Price']=df.Price.apply(lambda x:int(x[1:].replace(\",\",\"\")))"
   ]
  },
  {
   "cell_type": "code",
   "execution_count": 29,
   "metadata": {},
   "outputs": [
    {
     "data": {
      "text/plain": [
       "3149"
      ]
     },
     "execution_count": 29,
     "metadata": {},
     "output_type": "execute_result"
    }
   ],
   "source": [
    "# check for duplicates \n",
    "df.duplicated().sum()"
   ]
  },
  {
   "cell_type": "code",
   "execution_count": 30,
   "metadata": {},
   "outputs": [],
   "source": [
    "# Treat the duplicates \n",
    "df.drop_duplicates(inplace=True)"
   ]
  },
  {
   "cell_type": "code",
   "execution_count": 31,
   "metadata": {},
   "outputs": [],
   "source": [
    "# Removing ml(weight unit) from packing  \n",
    "import re\n",
    "lst=[]\n",
    "df['Packing']=df['Packing'].apply(lambda x:str(x))\n",
    "for i in df.Packing:\n",
    "  lst.append(pd.to_numeric(re.findall('\\d+',i)).sum())\n",
    "df['Packing']=lst"
   ]
  },
  {
   "cell_type": "code",
   "execution_count": 32,
   "metadata": {},
   "outputs": [
    {
     "data": {
      "text/html": [
       "<div>\n",
       "<style scoped>\n",
       "    .dataframe tbody tr th:only-of-type {\n",
       "        vertical-align: middle;\n",
       "    }\n",
       "\n",
       "    .dataframe tbody tr th {\n",
       "        vertical-align: top;\n",
       "    }\n",
       "\n",
       "    .dataframe thead th {\n",
       "        text-align: right;\n",
       "    }\n",
       "</style>\n",
       "<table border=\"1\" class=\"dataframe\">\n",
       "  <thead>\n",
       "    <tr style=\"text-align: right;\">\n",
       "      <th></th>\n",
       "      <th>Product</th>\n",
       "      <th>Price</th>\n",
       "      <th>Rating</th>\n",
       "      <th>Brand</th>\n",
       "      <th>Product Type</th>\n",
       "      <th>Packing</th>\n",
       "    </tr>\n",
       "  </thead>\n",
       "  <tbody>\n",
       "    <tr>\n",
       "      <th>0</th>\n",
       "      <td>BIOTIQUE Fruit Brightening |Brightens &amp; Soften...</td>\n",
       "      <td>212</td>\n",
       "      <td>4.2</td>\n",
       "      <td>BIOTIQUE</td>\n",
       "      <td>Face Wash</td>\n",
       "      <td>400</td>\n",
       "    </tr>\n",
       "    <tr>\n",
       "      <th>1</th>\n",
       "      <td>Mamaearth Rice  With Rice Water &amp; Niacinamide ...</td>\n",
       "      <td>339</td>\n",
       "      <td>4.3</td>\n",
       "      <td>Mamaearth</td>\n",
       "      <td>Face Wash</td>\n",
       "      <td>200</td>\n",
       "    </tr>\n",
       "    <tr>\n",
       "      <th>2</th>\n",
       "      <td>HIMALAYA PURIFYING NEEM | PREVENTS PIMPLE | AN...</td>\n",
       "      <td>239</td>\n",
       "      <td>4.4</td>\n",
       "      <td>HIMALAYA</td>\n",
       "      <td>Face Wash</td>\n",
       "      <td>400</td>\n",
       "    </tr>\n",
       "    <tr>\n",
       "      <th>3</th>\n",
       "      <td>The Derma Co Sali-Cinamide Anti-Acne with 2% S...</td>\n",
       "      <td>192</td>\n",
       "      <td>4.2</td>\n",
       "      <td>The</td>\n",
       "      <td>Face Wash</td>\n",
       "      <td>80</td>\n",
       "    </tr>\n",
       "    <tr>\n",
       "      <th>4</th>\n",
       "      <td>MUUCHSTAC Ocean for Men, Anti Acne &amp; Pimple, S...</td>\n",
       "      <td>349</td>\n",
       "      <td>4.1</td>\n",
       "      <td>MUUCHSTAC</td>\n",
       "      <td>Face Wash</td>\n",
       "      <td>300</td>\n",
       "    </tr>\n",
       "    <tr>\n",
       "      <th>...</th>\n",
       "      <td>...</td>\n",
       "      <td>...</td>\n",
       "      <td>...</td>\n",
       "      <td>...</td>\n",
       "      <td>...</td>\n",
       "      <td>...</td>\n",
       "    </tr>\n",
       "    <tr>\n",
       "      <th>16736</th>\n",
       "      <td>velvetbean Sunscreen - SPF NATURAL SPF 30 PA+ ...</td>\n",
       "      <td>250</td>\n",
       "      <td>4.2</td>\n",
       "      <td>velvetbean</td>\n",
       "      <td>Face Gel</td>\n",
       "      <td>100</td>\n",
       "    </tr>\n",
       "    <tr>\n",
       "      <th>16737</th>\n",
       "      <td>LOTUS HERBALS WhiteGlow Vitamin-C Radiance Fac...</td>\n",
       "      <td>416</td>\n",
       "      <td>4.2</td>\n",
       "      <td>LOTUS</td>\n",
       "      <td>Face Gel</td>\n",
       "      <td>200</td>\n",
       "    </tr>\n",
       "    <tr>\n",
       "      <th>16738</th>\n",
       "      <td>GREEN DERMA Alnalite-T Aloe Gel Tea tree Sooth...</td>\n",
       "      <td>114</td>\n",
       "      <td>4.0</td>\n",
       "      <td>GREEN</td>\n",
       "      <td>Face Gel</td>\n",
       "      <td>100</td>\n",
       "    </tr>\n",
       "    <tr>\n",
       "      <th>16739</th>\n",
       "      <td>Gantavya Aloe Vera Gel For Anti-Tan Whitening ...</td>\n",
       "      <td>219</td>\n",
       "      <td>NaN</td>\n",
       "      <td>Gantavya</td>\n",
       "      <td>Face Gel</td>\n",
       "      <td>880</td>\n",
       "    </tr>\n",
       "    <tr>\n",
       "      <th>16740</th>\n",
       "      <td>Gantavya Aloe Vera Gel For Anti-Tan Glowing Skin</td>\n",
       "      <td>219</td>\n",
       "      <td>NaN</td>\n",
       "      <td>Gantavya</td>\n",
       "      <td>Face Gel</td>\n",
       "      <td>880</td>\n",
       "    </tr>\n",
       "  </tbody>\n",
       "</table>\n",
       "<p>13752 rows × 6 columns</p>\n",
       "</div>"
      ],
      "text/plain": [
       "                                                 Product  Price  Rating  \\\n",
       "0      BIOTIQUE Fruit Brightening |Brightens & Soften...    212     4.2   \n",
       "1      Mamaearth Rice  With Rice Water & Niacinamide ...    339     4.3   \n",
       "2      HIMALAYA PURIFYING NEEM | PREVENTS PIMPLE | AN...    239     4.4   \n",
       "3      The Derma Co Sali-Cinamide Anti-Acne with 2% S...    192     4.2   \n",
       "4      MUUCHSTAC Ocean for Men, Anti Acne & Pimple, S...    349     4.1   \n",
       "...                                                  ...    ...     ...   \n",
       "16736  velvetbean Sunscreen - SPF NATURAL SPF 30 PA+ ...    250     4.2   \n",
       "16737  LOTUS HERBALS WhiteGlow Vitamin-C Radiance Fac...    416     4.2   \n",
       "16738  GREEN DERMA Alnalite-T Aloe Gel Tea tree Sooth...    114     4.0   \n",
       "16739  Gantavya Aloe Vera Gel For Anti-Tan Whitening ...    219     NaN   \n",
       "16740   Gantavya Aloe Vera Gel For Anti-Tan Glowing Skin    219     NaN   \n",
       "\n",
       "            Brand Product Type  Packing  \n",
       "0        BIOTIQUE    Face Wash      400  \n",
       "1       Mamaearth    Face Wash      200  \n",
       "2        HIMALAYA    Face Wash      400  \n",
       "3             The    Face Wash       80  \n",
       "4       MUUCHSTAC    Face Wash      300  \n",
       "...           ...          ...      ...  \n",
       "16736  velvetbean     Face Gel      100  \n",
       "16737       LOTUS     Face Gel      200  \n",
       "16738       GREEN     Face Gel      100  \n",
       "16739    Gantavya     Face Gel      880  \n",
       "16740    Gantavya     Face Gel      880  \n",
       "\n",
       "[13752 rows x 6 columns]"
      ]
     },
     "execution_count": 32,
     "metadata": {},
     "output_type": "execute_result"
    }
   ],
   "source": [
    "df"
   ]
  },
  {
   "cell_type": "code",
   "execution_count": 33,
   "metadata": {},
   "outputs": [],
   "source": [
    "df['Brand'] = df.apply(\n",
    "    lambda x: ' '.join(x['Product'].split()[:2]) if len(x['Brand']) < 5 else x['Brand'], \n",
    "    axis=1)"
   ]
  },
  {
   "cell_type": "code",
   "execution_count": 34,
   "metadata": {},
   "outputs": [
    {
     "name": "stderr",
     "output_type": "stream",
     "text": [
      "[nltk_data] Downloading package stopwords to\n",
      "[nltk_data]     C:\\Users\\MY\\AppData\\Roaming\\nltk_data...\n",
      "[nltk_data]   Package stopwords is already up-to-date!\n",
      "[nltk_data] Downloading package punkt to\n",
      "[nltk_data]     C:\\Users\\MY\\AppData\\Roaming\\nltk_data...\n",
      "[nltk_data]   Package punkt is already up-to-date!\n"
     ]
    }
   ],
   "source": [
    "# NLTK ~ text preprocessing| Spacy: text preprocessing\n",
    "# Regex ~ Meant for data cleaning and removal of emoticons ,@ ,etc.\n",
    "\n",
    "import re # Regular Expression\n",
    "import nltk # List of Stopwords\n",
    "\n",
    "# Download the stopwords\n",
    "nltk.download('stopwords')\n",
    "nltk.download('punkt')\n",
    "\n",
    "# Create Varaible Called stop that will contain all stopwords\n",
    "from nltk.corpus import stopwords\n",
    "stop=stopwords.words('english')"
   ]
  },
  {
   "cell_type": "code",
   "execution_count": 35,
   "metadata": {},
   "outputs": [],
   "source": [
    "# Capping the price to 3000\n",
    "\n",
    "df['Price']=df['Price'].apply(lambda x:x if x<3000 else 3000)"
   ]
  },
  {
   "cell_type": "code",
   "execution_count": 36,
   "metadata": {},
   "outputs": [],
   "source": [
    "def clean_noise(text):\n",
    "    # Step 1 : Convert it in lower case\n",
    "    # Step 2: Remove Stopwords\n",
    "    text=[word for word in text.split() if word.lower() not in stop]\n",
    "    text=\" \".join(text[1:])\n",
    "    # Step 3 : Remove the noise\n",
    "    text = re.sub(\"@\\w+ |[^a-zA-Z0-9\\s]+\",\"\",text)\n",
    "    return(text)"
   ]
  },
  {
   "cell_type": "code",
   "execution_count": 37,
   "metadata": {},
   "outputs": [],
   "source": [
    "df['Product_new'] = df['Product'].apply(clean_noise)\n",
    "\n",
    "#columns = ['Product_new'] + [col for col in df.columns if col != 'Product_new']\n",
    "#df = df[columns]"
   ]
  },
  {
   "cell_type": "code",
   "execution_count": 38,
   "metadata": {},
   "outputs": [
    {
     "data": {
      "text/plain": [
       "Product            0\n",
       "Price              0\n",
       "Rating          2225\n",
       "Brand              0\n",
       "Product Type       0\n",
       "Packing            0\n",
       "Product_new        0\n",
       "dtype: int64"
      ]
     },
     "execution_count": 38,
     "metadata": {},
     "output_type": "execute_result"
    }
   ],
   "source": [
    "# Check for nan values of missing values \n",
    "df.isnull().sum()"
   ]
  },
  {
   "cell_type": "code",
   "execution_count": 39,
   "metadata": {},
   "outputs": [
    {
     "name": "stderr",
     "output_type": "stream",
     "text": [
      "C:\\Users\\MY\\AppData\\Local\\Temp\\ipykernel_10540\\1076880146.py:9: FutureWarning: A value is trying to be set on a copy of a DataFrame or Series through chained assignment using an inplace method.\n",
      "The behavior will change in pandas 3.0. This inplace method will never work because the intermediate object on which we are setting values always behaves as a copy.\n",
      "\n",
      "For example, when doing 'df[col].method(value, inplace=True)', try using 'df.method({col: value}, inplace=True)' or df[col] = df[col].method(value) instead, to perform the operation inplace on the original object.\n",
      "\n",
      "\n",
      "  df['Rating'].fillna(overall_mean, inplace=True)\n"
     ]
    },
    {
     "data": {
      "text/plain": [
       "Product         0\n",
       "Price           0\n",
       "Rating          0\n",
       "Brand           0\n",
       "Product Type    0\n",
       "Packing         0\n",
       "Product_new     0\n",
       "dtype: int64"
      ]
     },
     "execution_count": 39,
     "metadata": {},
     "output_type": "execute_result"
    }
   ],
   "source": [
    "# Calculating the mean 'Rating' for each 'Brand'\n",
    "brand_means = df.groupby('Brand')['Rating'].transform(lambda x: x.fillna(x.mean()))\n",
    "\n",
    "# Replace missing values in 'Rating' with brand-specific mean\n",
    "df['Rating'] = df['Rating'].fillna(brand_means)\n",
    "\n",
    "# Some brands still have NaN in 'Rating', Replacing them  with overall mean\n",
    "overall_mean = df['Rating'].mean()\n",
    "df['Rating'].fillna(overall_mean, inplace=True)\n",
    "df.isnull().sum()"
   ]
  },
  {
   "cell_type": "code",
   "execution_count": 40,
   "metadata": {},
   "outputs": [
    {
     "name": "stdout",
     "output_type": "stream",
     "text": [
      "<class 'pandas.core.frame.DataFrame'>\n",
      "Index: 13752 entries, 0 to 16740\n",
      "Data columns (total 7 columns):\n",
      " #   Column        Non-Null Count  Dtype  \n",
      "---  ------        --------------  -----  \n",
      " 0   Product       13752 non-null  object \n",
      " 1   Price         13752 non-null  int64  \n",
      " 2   Rating        13752 non-null  float64\n",
      " 3   Brand         13752 non-null  object \n",
      " 4   Product Type  13752 non-null  object \n",
      " 5   Packing       13752 non-null  int64  \n",
      " 6   Product_new   13752 non-null  object \n",
      "dtypes: float64(1), int64(2), object(4)\n",
      "memory usage: 859.5+ KB\n"
     ]
    }
   ],
   "source": [
    "df.info()"
   ]
  },
  {
   "cell_type": "code",
   "execution_count": 41,
   "metadata": {},
   "outputs": [
    {
     "data": {
      "image/png": "[encoded data removed]",
      "text/plain": [
       "<Figure size 500x300 with 1 Axes>"
      ]
     },
     "metadata": {},
     "output_type": "display_data"
    }
   ],
   "source": [
    "# top 10 Brands by size\n",
    "plt.figure(figsize=(5,3))\n",
    "df['Brand'].value_counts()[:10].plot(kind='bar')\n",
    "plt.show()"
   ]
  },
  {
   "cell_type": "code",
   "execution_count": 42,
   "metadata": {},
   "outputs": [
    {
     "data": {
      "image/png": "[encoded data removed]",
      "text/plain": [
       "<Figure size 500x300 with 1 Axes>"
      ]
     },
     "metadata": {},
     "output_type": "display_data"
    }
   ],
   "source": [
    "#Product Type\n",
    "plt.figure(figsize=(5,3))\n",
    "df['Product Type'].value_counts()[:10].plot(kind='pie',autopct=\"%.2f%%\")\n",
    "plt.show()"
   ]
  },
  {
   "cell_type": "code",
   "execution_count": 43,
   "metadata": {},
   "outputs": [
    {
     "data": {
      "image/png": "[encoded data removed]",
      "text/plain": [
       "<Figure size 900x400 with 2 Axes>"
      ]
     },
     "metadata": {},
     "output_type": "display_data"
    }
   ],
   "source": [
    "numerical_columns = df.select_dtypes(include=['float64', 'int64']).columns\n",
    "plt.figure(figsize=(9,4))\n",
    "sns.heatmap(df[numerical_columns].corr(),vmin=-1,vmax=1, annot=True, fmt=\".2f\", cmap='RdBu')\n",
    "plt.title(\"Correlation Heatmap\")\n",
    "plt.show()"
   ]
  },
  {
   "cell_type": "code",
   "execution_count": 44,
   "metadata": {},
   "outputs": [
    {
     "data": {
      "text/html": [
       "<div>\n",
       "<style scoped>\n",
       "    .dataframe tbody tr th:only-of-type {\n",
       "        vertical-align: middle;\n",
       "    }\n",
       "\n",
       "    .dataframe tbody tr th {\n",
       "        vertical-align: top;\n",
       "    }\n",
       "\n",
       "    .dataframe thead th {\n",
       "        text-align: right;\n",
       "    }\n",
       "</style>\n",
       "<table border=\"1\" class=\"dataframe\">\n",
       "  <thead>\n",
       "    <tr style=\"text-align: right;\">\n",
       "      <th></th>\n",
       "      <th>Brand</th>\n",
       "      <th>Average_Rating</th>\n",
       "      <th>Average_Price</th>\n",
       "    </tr>\n",
       "  </thead>\n",
       "  <tbody>\n",
       "    <tr>\n",
       "      <th>2353</th>\n",
       "      <td>licuqure</td>\n",
       "      <td>5.0</td>\n",
       "      <td>89.000000</td>\n",
       "    </tr>\n",
       "    <tr>\n",
       "      <th>226</th>\n",
       "      <td>BBX Watermelon</td>\n",
       "      <td>5.0</td>\n",
       "      <td>119.000000</td>\n",
       "    </tr>\n",
       "    <tr>\n",
       "      <th>476</th>\n",
       "      <td>Dabas</td>\n",
       "      <td>5.0</td>\n",
       "      <td>129.000000</td>\n",
       "    </tr>\n",
       "    <tr>\n",
       "      <th>1728</th>\n",
       "      <td>SESUFZA</td>\n",
       "      <td>5.0</td>\n",
       "      <td>139.000000</td>\n",
       "    </tr>\n",
       "    <tr>\n",
       "      <th>1412</th>\n",
       "      <td>OUTSUP</td>\n",
       "      <td>5.0</td>\n",
       "      <td>161.000000</td>\n",
       "    </tr>\n",
       "    <tr>\n",
       "      <th>94</th>\n",
       "      <td>AYA Activated</td>\n",
       "      <td>5.0</td>\n",
       "      <td>175.000000</td>\n",
       "    </tr>\n",
       "    <tr>\n",
       "      <th>343</th>\n",
       "      <td>CMLIX</td>\n",
       "      <td>5.0</td>\n",
       "      <td>175.000000</td>\n",
       "    </tr>\n",
       "    <tr>\n",
       "      <th>1263</th>\n",
       "      <td>NATURE-Q</td>\n",
       "      <td>5.0</td>\n",
       "      <td>184.000000</td>\n",
       "    </tr>\n",
       "    <tr>\n",
       "      <th>1902</th>\n",
       "      <td>THE LOVE</td>\n",
       "      <td>5.0</td>\n",
       "      <td>189.666667</td>\n",
       "    </tr>\n",
       "    <tr>\n",
       "      <th>1320</th>\n",
       "      <td>Newsio</td>\n",
       "      <td>5.0</td>\n",
       "      <td>194.000000</td>\n",
       "    </tr>\n",
       "  </tbody>\n",
       "</table>\n",
       "</div>"
      ],
      "text/plain": [
       "               Brand  Average_Rating  Average_Price\n",
       "2353        licuqure             5.0      89.000000\n",
       "226   BBX Watermelon             5.0     119.000000\n",
       "476            Dabas             5.0     129.000000\n",
       "1728         SESUFZA             5.0     139.000000\n",
       "1412          OUTSUP             5.0     161.000000\n",
       "94     AYA Activated             5.0     175.000000\n",
       "343            CMLIX             5.0     175.000000\n",
       "1263        NATURE-Q             5.0     184.000000\n",
       "1902        THE LOVE             5.0     189.666667\n",
       "1320          Newsio             5.0     194.000000"
      ]
     },
     "execution_count": 44,
     "metadata": {},
     "output_type": "execute_result"
    }
   ],
   "source": [
    "brand_summary = df.groupby('Brand').agg({'Rating': 'mean', 'Price': 'mean'}).reset_index()\n",
    "brand_summary.columns = ['Brand', 'Average_Rating', 'Average_Price']\n",
    "\n",
    "top_brands = brand_summary.sort_values(by=['Average_Rating', 'Average_Price'], ascending=[False, True]).head(10)\n",
    "\n",
    "\n",
    "top_brands"
   ]
  },
  {
   "cell_type": "code",
   "execution_count": 45,
   "metadata": {},
   "outputs": [
    {
     "data": {
      "image/png": "[encoded data removed]",
      "text/plain": [
       "<Figure size 640x480 with 1 Axes>"
      ]
     },
     "metadata": {},
     "output_type": "display_data"
    }
   ],
   "source": [
    "# Skewness and Distribution of Price\n",
    "sns.histplot(df['Price'],kde='line')\n",
    "plt.title(f\"Skewness :{round(df['Price'].skew(),2)}\")\n",
    "plt.show()"
   ]
  },
  {
   "cell_type": "code",
   "execution_count": 46,
   "metadata": {},
   "outputs": [
    {
     "data": {
      "text/plain": [
       "count    13752.000000\n",
       "mean       357.098022\n",
       "std        289.940810\n",
       "min         24.000000\n",
       "25%        199.000000\n",
       "50%        271.000000\n",
       "75%        399.000000\n",
       "max       3000.000000\n",
       "Name: Price, dtype: float64"
      ]
     },
     "execution_count": 46,
     "metadata": {},
     "output_type": "execute_result"
    }
   ],
   "source": [
    "#Minimun and Maximum Price\n",
    "\n",
    "df['Price'].describe()\n",
    "\n",
    "# Min = 24\n",
    "# Max = 3000 ## As we capped the data to 3000"
   ]
  },
  {
   "cell_type": "code",
   "execution_count": 47,
   "metadata": {},
   "outputs": [
    {
     "data": {
      "text/html": [
       "<div>\n",
       "<style scoped>\n",
       "    .dataframe tbody tr th:only-of-type {\n",
       "        vertical-align: middle;\n",
       "    }\n",
       "\n",
       "    .dataframe tbody tr th {\n",
       "        vertical-align: top;\n",
       "    }\n",
       "\n",
       "    .dataframe thead th {\n",
       "        text-align: right;\n",
       "    }\n",
       "</style>\n",
       "<table border=\"1\" class=\"dataframe\">\n",
       "  <thead>\n",
       "    <tr style=\"text-align: right;\">\n",
       "      <th></th>\n",
       "      <th>Product</th>\n",
       "      <th>Price</th>\n",
       "      <th>Rating</th>\n",
       "      <th>Brand</th>\n",
       "      <th>Product Type</th>\n",
       "      <th>Product_new</th>\n",
       "    </tr>\n",
       "  </thead>\n",
       "  <tbody>\n",
       "    <tr>\n",
       "      <th>0</th>\n",
       "      <td>BIOTIQUE Fruit Brightening |Brightens &amp; Soften...</td>\n",
       "      <td>212</td>\n",
       "      <td>4.200000</td>\n",
       "      <td>BIOTIQUE</td>\n",
       "      <td>Face Wash</td>\n",
       "      <td>Fruit Brightening Brightens  Soften Skin 100 s...</td>\n",
       "    </tr>\n",
       "    <tr>\n",
       "      <th>1</th>\n",
       "      <td>Mamaearth Rice  With Rice Water &amp; Niacinamide ...</td>\n",
       "      <td>339</td>\n",
       "      <td>4.300000</td>\n",
       "      <td>Mamaearth</td>\n",
       "      <td>Face Wash</td>\n",
       "      <td>Rice Rice Water  Niacinamide Glass Skin Face Wash</td>\n",
       "    </tr>\n",
       "    <tr>\n",
       "      <th>2</th>\n",
       "      <td>HIMALAYA PURIFYING NEEM | PREVENTS PIMPLE | AN...</td>\n",
       "      <td>239</td>\n",
       "      <td>4.400000</td>\n",
       "      <td>HIMALAYA</td>\n",
       "      <td>Face Wash</td>\n",
       "      <td>PURIFYING NEEM  PREVENTS PIMPLE  ANTI BACTERIA...</td>\n",
       "    </tr>\n",
       "    <tr>\n",
       "      <th>3</th>\n",
       "      <td>The Derma Co Sali-Cinamide Anti-Acne with 2% S...</td>\n",
       "      <td>192</td>\n",
       "      <td>4.200000</td>\n",
       "      <td>The Derma</td>\n",
       "      <td>Face Wash</td>\n",
       "      <td>Co SaliCinamide AntiAcne 2 Salicylic Acid  2 N...</td>\n",
       "    </tr>\n",
       "    <tr>\n",
       "      <th>4</th>\n",
       "      <td>MUUCHSTAC Ocean for Men, Anti Acne &amp; Pimple, S...</td>\n",
       "      <td>349</td>\n",
       "      <td>4.100000</td>\n",
       "      <td>MUUCHSTAC</td>\n",
       "      <td>Face Wash</td>\n",
       "      <td>Ocean Men Anti Acne  Pimple Skin Brightening S...</td>\n",
       "    </tr>\n",
       "    <tr>\n",
       "      <th>...</th>\n",
       "      <td>...</td>\n",
       "      <td>...</td>\n",
       "      <td>...</td>\n",
       "      <td>...</td>\n",
       "      <td>...</td>\n",
       "      <td>...</td>\n",
       "    </tr>\n",
       "    <tr>\n",
       "      <th>16736</th>\n",
       "      <td>velvetbean Sunscreen - SPF NATURAL SPF 30 PA+ ...</td>\n",
       "      <td>250</td>\n",
       "      <td>4.200000</td>\n",
       "      <td>velvetbean</td>\n",
       "      <td>Face Gel</td>\n",
       "      <td>Sunscreen  SPF NATURAL SPF 30 PA SUN BURN GEL</td>\n",
       "    </tr>\n",
       "    <tr>\n",
       "      <th>16737</th>\n",
       "      <td>LOTUS HERBALS WhiteGlow Vitamin-C Radiance Fac...</td>\n",
       "      <td>416</td>\n",
       "      <td>4.200000</td>\n",
       "      <td>LOTUS</td>\n",
       "      <td>Face Gel</td>\n",
       "      <td>HERBALS WhiteGlow VitaminC Radiance Facewash  ...</td>\n",
       "    </tr>\n",
       "    <tr>\n",
       "      <th>16738</th>\n",
       "      <td>GREEN DERMA Alnalite-T Aloe Gel Tea tree Sooth...</td>\n",
       "      <td>114</td>\n",
       "      <td>4.000000</td>\n",
       "      <td>GREEN</td>\n",
       "      <td>Face Gel</td>\n",
       "      <td>DERMA AlnaliteT Aloe Gel Tea tree Soothing skin</td>\n",
       "    </tr>\n",
       "    <tr>\n",
       "      <th>16739</th>\n",
       "      <td>Gantavya Aloe Vera Gel For Anti-Tan Whitening ...</td>\n",
       "      <td>219</td>\n",
       "      <td>3.871429</td>\n",
       "      <td>Gantavya</td>\n",
       "      <td>Face Gel</td>\n",
       "      <td>Aloe Vera Gel AntiTan Whitening Skin</td>\n",
       "    </tr>\n",
       "    <tr>\n",
       "      <th>16740</th>\n",
       "      <td>Gantavya Aloe Vera Gel For Anti-Tan Glowing Skin</td>\n",
       "      <td>219</td>\n",
       "      <td>3.871429</td>\n",
       "      <td>Gantavya</td>\n",
       "      <td>Face Gel</td>\n",
       "      <td>Aloe Vera Gel AntiTan Glowing Skin</td>\n",
       "    </tr>\n",
       "  </tbody>\n",
       "</table>\n",
       "<p>13752 rows × 6 columns</p>\n",
       "</div>"
      ],
      "text/plain": [
       "                                                 Product  Price    Rating  \\\n",
       "0      BIOTIQUE Fruit Brightening |Brightens & Soften...    212  4.200000   \n",
       "1      Mamaearth Rice  With Rice Water & Niacinamide ...    339  4.300000   \n",
       "2      HIMALAYA PURIFYING NEEM | PREVENTS PIMPLE | AN...    239  4.400000   \n",
       "3      The Derma Co Sali-Cinamide Anti-Acne with 2% S...    192  4.200000   \n",
       "4      MUUCHSTAC Ocean for Men, Anti Acne & Pimple, S...    349  4.100000   \n",
       "...                                                  ...    ...       ...   \n",
       "16736  velvetbean Sunscreen - SPF NATURAL SPF 30 PA+ ...    250  4.200000   \n",
       "16737  LOTUS HERBALS WhiteGlow Vitamin-C Radiance Fac...    416  4.200000   \n",
       "16738  GREEN DERMA Alnalite-T Aloe Gel Tea tree Sooth...    114  4.000000   \n",
       "16739  Gantavya Aloe Vera Gel For Anti-Tan Whitening ...    219  3.871429   \n",
       "16740   Gantavya Aloe Vera Gel For Anti-Tan Glowing Skin    219  3.871429   \n",
       "\n",
       "            Brand Product Type  \\\n",
       "0        BIOTIQUE    Face Wash   \n",
       "1       Mamaearth    Face Wash   \n",
       "2        HIMALAYA    Face Wash   \n",
       "3       The Derma    Face Wash   \n",
       "4       MUUCHSTAC    Face Wash   \n",
       "...           ...          ...   \n",
       "16736  velvetbean     Face Gel   \n",
       "16737       LOTUS     Face Gel   \n",
       "16738       GREEN     Face Gel   \n",
       "16739    Gantavya     Face Gel   \n",
       "16740    Gantavya     Face Gel   \n",
       "\n",
       "                                             Product_new  \n",
       "0      Fruit Brightening Brightens  Soften Skin 100 s...  \n",
       "1      Rice Rice Water  Niacinamide Glass Skin Face Wash  \n",
       "2      PURIFYING NEEM  PREVENTS PIMPLE  ANTI BACTERIA...  \n",
       "3      Co SaliCinamide AntiAcne 2 Salicylic Acid  2 N...  \n",
       "4      Ocean Men Anti Acne  Pimple Skin Brightening S...  \n",
       "...                                                  ...  \n",
       "16736      Sunscreen  SPF NATURAL SPF 30 PA SUN BURN GEL  \n",
       "16737  HERBALS WhiteGlow VitaminC Radiance Facewash  ...  \n",
       "16738    DERMA AlnaliteT Aloe Gel Tea tree Soothing skin  \n",
       "16739               Aloe Vera Gel AntiTan Whitening Skin  \n",
       "16740                 Aloe Vera Gel AntiTan Glowing Skin  \n",
       "\n",
       "[13752 rows x 6 columns]"
      ]
     },
     "execution_count": 47,
     "metadata": {},
     "output_type": "execute_result"
    }
   ],
   "source": [
    "df.drop(columns=['Packing'])"
   ]
  },
  {
   "cell_type": "code",
   "execution_count": null,
   "metadata": {},
   "outputs": [],
   "source": [
    "df.to_csv(\"skincare_preprocessed.csv\",index=False)"
   ]
  }
 ],
 "metadata": {
  "kernelspec": {
   "display_name": "Python 3",
   "language": "python",
   "name": "python3"
  },
  "language_info": {
   "codemirror_mode": {
    "name": "ipython",
    "version": 3
   },
   "file_extension": ".py",
   "mimetype": "text/x-python",
   "name": "python",
   "nbconvert_exporter": "python",
   "pygments_lexer": "ipython3",
   "version": "3.11.0"
  }
 },
 "nbformat": 4,
 "nbformat_minor": 2
}
