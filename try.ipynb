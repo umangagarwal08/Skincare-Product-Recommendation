{
 "cells": [
  {
   "cell_type": "code",
   "execution_count": 24,
   "metadata": {},
   "outputs": [],
   "source": [
    "from sklearn.decomposition import PCA\n",
    "from sklearn.cluster import KMeans\n",
    "import pandas as pd\n",
    "import numpy as np\n",
    "from sklearn.feature_extraction.text import TfidfVectorizer\n",
    "from sklearn.preprocessing import StandardScaler, OneHotEncoder\n",
    "from sklearn.metrics.pairwise import cosine_similarity\n",
    "from scipy.sparse import hstack\n",
    "from fuzzywuzzy import process"
   ]
  },
  {
   "cell_type": "code",
   "execution_count": 25,
   "metadata": {},
   "outputs": [],
   "source": [
    "df=pd.read_csv(r\"C:\\Users\\MY\\Desktop\\Capstone\\skincare_preprocessed.csv\")"
   ]
  },
  {
   "cell_type": "code",
   "execution_count": 26,
   "metadata": {},
   "outputs": [],
   "source": [
    "# Step 1: TF-IDF Vectorization on 'title'\n",
    "tfidf_vectorizer = TfidfVectorizer()\n",
    "tfidf_matrix = tfidf_vectorizer.fit_transform(df['Product_new'])"
   ]
  },
  {
   "cell_type": "code",
   "execution_count": 27,
   "metadata": {},
   "outputs": [],
   "source": [
    "# Step 2: Normalize numerical features ('price', 'rating')\n",
    "scaler = StandardScaler()\n",
    "numeric_features = scaler.fit_transform(df[['Price', 'Rating']])"
   ]
  },
  {
   "cell_type": "code",
   "execution_count": 28,
   "metadata": {},
   "outputs": [],
   "source": [
    "# Step 3: Encode categorical feature ('product_type')\n",
    "encoder = OneHotEncoder()\n",
    "categorical_features = encoder.fit_transform(df[['Product Type']])"
   ]
  },
  {
   "cell_type": "code",
   "execution_count": 29,
   "metadata": {},
   "outputs": [],
   "source": [
    "# Step 4: Combine all features into a single feature matrix\n",
    "combined_features = hstack([tfidf_matrix, numeric_features, categorical_features])"
   ]
  },
  {
   "cell_type": "code",
   "execution_count": 30,
   "metadata": {},
   "outputs": [],
   "source": [
    "# Step 5: Dimensionality Reduction using PCA\n",
    "pca = PCA(n_components=500)  # Reduce to 50 dimensions (adjust based on variance explained)\n",
    "reduced_features = pca.fit_transform(combined_features.toarray())\n"
   ]
  },
  {
   "cell_type": "code",
   "execution_count": 31,
   "metadata": {},
   "outputs": [],
   "source": [
    "# Step 6: Clustering with KMeans\n",
    "num_clusters = 10  # Adjust based on dataset size and variety\n",
    "kmeans = KMeans(n_clusters=num_clusters, random_state=42)\n",
    "clusters = kmeans.fit_predict(reduced_features)\n",
    "\n",
    "# Add cluster labels to the DataFrame\n",
    "df['Cluster'] = clusters\n"
   ]
  },
  {
   "cell_type": "code",
   "execution_count": 38,
   "metadata": {},
   "outputs": [],
   "source": [
    "\n",
    "# Enhanced Recommendation System Function with Clustering\n",
    "def recommend_products_with_clustering(product_title, num_recommendations=10):\n",
    "    try:\n",
    "        # Find the closest match for the product title using fuzzy matching\n",
    "        #closest_match = process.extractOne(product_title, df['Product_new'])[0]\n",
    "        closest_match=product_title\n",
    "        product_idx = df[df['Product_new'] == closest_match].index[0]\n",
    "        \n",
    "        # Find the cluster of the queried product\n",
    "        product_cluster = df.loc[product_idx, 'Cluster']\n",
    "        \n",
    "        # Filter products in the same cluster\n",
    "        cluster_products = df[df['Cluster'] == product_cluster]\n",
    "        \n",
    "        # Compute cosine similarity within the cluster\n",
    "        cluster_features = reduced_features[df['Cluster'] == product_cluster]\n",
    "        query_features = reduced_features[product_idx].reshape(1, -1)\n",
    "        cluster_sim_scores = cosine_similarity(query_features, cluster_features)\n",
    "        \n",
    "        # Rank products within the cluster by similarity\n",
    "        sim_scores = list(enumerate(cluster_sim_scores[0]))\n",
    "        sim_scores = sorted(sim_scores, key=lambda x: x[1], reverse=True)\n",
    "        \n",
    "        # Get the top N recommendations (excluding the queried product)\n",
    "        recommended_indices = [cluster_products.index[idx] for idx, score in sim_scores if idx != product_idx][:num_recommendations]\n",
    "        \n",
    "        # Return the recommended products\n",
    "        return df.loc[recommended_indices]\n",
    "    except IndexError:\n",
    "        return \"Product title not found in the dataset.\"\n",
    "\n"
   ]
  },
  {
   "cell_type": "code",
   "execution_count": 41,
   "metadata": {},
   "outputs": [
    {
     "name": "stdout",
     "output_type": "stream",
     "text": [
      "                                                Product  Price  Rating  \\\n",
      "271   DR.RASHEL VITAMIN C FACE WASH BRIGHTENS THE SK...    160     4.2   \n",
      "50    BIOTIQUE Fruit Brightening | Ayurvedic and Org...    151     4.2   \n",
      "1008  BIOTIQUE Fruit Brightening | Ayurvedic and Org...    151     4.2   \n",
      "188      NIVEA Milk Delights Caring Rosewater Face Wash    207     4.2   \n",
      "729   OZiva Bioactive VitaminC30 FaceCleanser for Sk...    199     4.3   \n",
      "282   Leeford meglow Fairness  70g x 2 = 170 g Face ...    160     4.2   \n",
      "608   Estonia Refining  With White Crystallites and ...    233     4.3   \n",
      "888          acnestar Unisex  - (50 Gr, 3 Pc) Face Wash    266     4.2   \n",
      "40                           BEARDO Ultraglow Face Wash    203     4.2   \n",
      "208                            NIVEA All-In-1 Face Wash    220     4.3   \n",
      "\n",
      "          Brand Product Type  Packing  \\\n",
      "271   DR.RASHEL    Face Wash      100   \n",
      "50     BIOTIQUE    Face Wash      200   \n",
      "1008   BIOTIQUE    Face Wash      150   \n",
      "188       NIVEA    Face Wash      100   \n",
      "729       OZiva    Face Wash      100   \n",
      "282     Leeford    Face Wash       70   \n",
      "608     Estonia    Face Wash      130   \n",
      "888    acnestar    Face Wash       50   \n",
      "40       BEARDO    Face Wash      100   \n",
      "208       NIVEA    Face Wash      100   \n",
      "\n",
      "                                            Product_new  Cluster  \n",
      "271   VITAMIN C FACE WASH BRIGHTENS SKIN PARABEAN FR...        4  \n",
      "50    Fruit Brightening  Ayurvedic Organically Pure ...        4  \n",
      "1008  Fruit Brightening  Ayurvedic Organically Pure ...        4  \n",
      "188            Milk Delights Caring Rosewater Face Wash        4  \n",
      "729   Bioactive VitaminC30 FaceCleanser SkinRadiance...        4  \n",
      "282            meglow Fairness 70g x 2  170 g Face Wash        4  \n",
      "608   Refining White Crystallites Micro Beads Skin B...        4  \n",
      "888                        Unisex  50 Gr 3 Pc Face Wash        4  \n",
      "40                                  Ultraglow Face Wash        4  \n",
      "208                                    AllIn1 Face Wash        4  \n"
     ]
    }
   ],
   "source": [
    "# Test the recommendation system\n",
    "product_to_search = \"Fruit Brightening Brightens  Soften Skin 100 soap freeMen  Women Face Wash\"\n",
    "recommended_products = recommend_products_with_clustering(product_to_search)\n",
    "\n",
    "print(recommended_products)"
   ]
  },
  {
   "cell_type": "code",
   "execution_count": 18,
   "metadata": {},
   "outputs": [
    {
     "data": {
      "text/plain": [
       "3.5342819390654885"
      ]
     },
     "execution_count": 18,
     "metadata": {},
     "output_type": "execute_result"
    }
   ],
   "source": [
    "pca.explained_variance_.sum()"
   ]
  },
  {
   "cell_type": "code",
   "execution_count": 19,
   "metadata": {},
   "outputs": [
    {
     "data": {
      "text/plain": [
       "0.9060733516853876"
      ]
     },
     "execution_count": 19,
     "metadata": {},
     "output_type": "execute_result"
    }
   ],
   "source": [
    "pca.explained_variance_ratio_.sum()"
   ]
  }
 ],
 "metadata": {
  "kernelspec": {
   "display_name": "Python 3",
   "language": "python",
   "name": "python3"
  },
  "language_info": {
   "codemirror_mode": {
    "name": "ipython",
    "version": 3
   },
   "file_extension": ".py",
   "mimetype": "text/x-python",
   "name": "python",
   "nbconvert_exporter": "python",
   "pygments_lexer": "ipython3",
   "version": "3.11.0"
  }
 },
 "nbformat": 4,
 "nbformat_minor": 2
}
